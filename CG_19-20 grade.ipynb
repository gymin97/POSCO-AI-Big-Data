{
 "cells": [
  {
   "cell_type": "code",
   "execution_count": 30,
   "metadata": {},
   "outputs": [],
   "source": [
    "import pandas as pd"
   ]
  },
  {
   "cell_type": "code",
   "execution_count": 32,
   "metadata": {},
   "outputs": [],
   "source": [
    "df_raw = pd.read_csv(\"Data_OTT/movies_grade_.csv\")"
   ]
  },
  {
   "cell_type": "code",
   "execution_count": 33,
   "metadata": {},
   "outputs": [
    {
     "data": {
      "text/plain": [
       "Index(['imdb_title_id', 'title', 'original_title', 'year', 'date_published',\n",
       "       'genre', 'duration', 'country', 'language', 'director', 'writer',\n",
       "       'production_company', 'actors', 'description', 'avg_vote', 'votes',\n",
       "       'budget', 'usa_gross_income', 'worlwide_gross_income', 'metascore',\n",
       "       'reviews_from_users', 'reviews_from_critics'],\n",
       "      dtype='object')"
      ]
     },
     "execution_count": 33,
     "metadata": {},
     "output_type": "execute_result"
    }
   ],
   "source": [
    "df_raw.columns"
   ]
  },
  {
   "cell_type": "code",
   "execution_count": 34,
   "metadata": {},
   "outputs": [
    {
     "name": "stdout",
     "output_type": "stream",
     "text": [
      "<class 'pandas.core.frame.DataFrame'>\n",
      "RangeIndex: 422 entries, 0 to 421\n",
      "Data columns (total 22 columns):\n",
      " #   Column                 Non-Null Count  Dtype  \n",
      "---  ------                 --------------  -----  \n",
      " 0   imdb_title_id          422 non-null    object \n",
      " 1   title                  422 non-null    object \n",
      " 2   original_title         422 non-null    object \n",
      " 3   year                   422 non-null    int64  \n",
      " 4   date_published         422 non-null    object \n",
      " 5   genre                  422 non-null    object \n",
      " 6   duration               422 non-null    int64  \n",
      " 7   country                421 non-null    object \n",
      " 8   language               414 non-null    object \n",
      " 9   director               421 non-null    object \n",
      " 10  writer                 418 non-null    object \n",
      " 11  production_company     403 non-null    object \n",
      " 12  actors                 421 non-null    object \n",
      " 13  description            421 non-null    object \n",
      " 14  avg_vote               422 non-null    float64\n",
      " 15  votes                  422 non-null    int64  \n",
      " 16  budget                 422 non-null    object \n",
      " 17  usa_gross_income       175 non-null    object \n",
      " 18  worlwide_gross_income  252 non-null    object \n",
      " 19  metascore              206 non-null    float64\n",
      " 20  reviews_from_users     411 non-null    float64\n",
      " 21  reviews_from_critics   380 non-null    float64\n",
      "dtypes: float64(4), int64(3), object(15)\n",
      "memory usage: 72.7+ KB\n"
     ]
    }
   ],
   "source": [
    "df_raw.info()"
   ]
  },
  {
   "cell_type": "code",
   "execution_count": 47,
   "metadata": {},
   "outputs": [],
   "source": [
    "df_raw.loc[df_raw[\"usa_gross_income\"].isnull(), \"usa_gross_income\"] = \"$0\"\n",
    "df_raw.loc[df_raw[\"worlwide_gross_income\"].isnull(), \"worlwide_gross_income\"] = \"$0\""
   ]
  },
  {
   "cell_type": "code",
   "execution_count": 48,
   "metadata": {
    "collapsed": true
   },
   "outputs": [
    {
     "name": "stdout",
     "output_type": "stream",
     "text": [
      "<class 'pandas.core.frame.DataFrame'>\n",
      "RangeIndex: 422 entries, 0 to 421\n",
      "Data columns (total 23 columns):\n",
      " #   Column                 Non-Null Count  Dtype  \n",
      "---  ------                 --------------  -----  \n",
      " 0   imdb_title_id          422 non-null    object \n",
      " 1   title                  422 non-null    object \n",
      " 2   original_title         422 non-null    object \n",
      " 3   year                   422 non-null    int64  \n",
      " 4   date_published         422 non-null    object \n",
      " 5   genre                  422 non-null    object \n",
      " 6   duration               422 non-null    int64  \n",
      " 7   country                421 non-null    object \n",
      " 8   language               414 non-null    object \n",
      " 9   director               421 non-null    object \n",
      " 10  writer                 418 non-null    object \n",
      " 11  production_company     403 non-null    object \n",
      " 12  actors                 421 non-null    object \n",
      " 13  description            421 non-null    object \n",
      " 14  avg_vote               422 non-null    float64\n",
      " 15  votes                  422 non-null    int64  \n",
      " 16  budget                 422 non-null    object \n",
      " 17  usa_gross_income       422 non-null    object \n",
      " 18  worlwide_gross_income  422 non-null    object \n",
      " 19  metascore              206 non-null    float64\n",
      " 20  reviews_from_users     411 non-null    float64\n",
      " 21  reviews_from_critics   380 non-null    float64\n",
      " 22  revenue                175 non-null    object \n",
      "dtypes: float64(4), int64(3), object(16)\n",
      "memory usage: 76.0+ KB\n"
     ]
    }
   ],
   "source": [
    "df_raw.info()"
   ]
  },
  {
   "cell_type": "code",
   "execution_count": 35,
   "metadata": {},
   "outputs": [],
   "source": [
    "df_raw[\"revenue\"] = df_raw[\"worlwide_gross_income\"] + df_raw[\"usa_gross_income\"]"
   ]
  },
  {
   "cell_type": "code",
   "execution_count": 36,
   "metadata": {},
   "outputs": [],
   "source": [
    "# income 있는 애들만 정리\n",
    "\n",
    "df_1 = df_raw[df_raw[\"revenue\"].notnull()]"
   ]
  },
  {
   "cell_type": "code",
   "execution_count": 40,
   "metadata": {
    "collapsed": true
   },
   "outputs": [
    {
     "name": "stdout",
     "output_type": "stream",
     "text": [
      "<class 'pandas.core.frame.DataFrame'>\n",
      "Int64Index: 175 entries, 42 to 421\n",
      "Data columns (total 23 columns):\n",
      " #   Column                 Non-Null Count  Dtype  \n",
      "---  ------                 --------------  -----  \n",
      " 0   imdb_title_id          175 non-null    object \n",
      " 1   title                  175 non-null    object \n",
      " 2   original_title         175 non-null    object \n",
      " 3   year                   175 non-null    int64  \n",
      " 4   date_published         175 non-null    object \n",
      " 5   genre                  175 non-null    object \n",
      " 6   duration               175 non-null    int64  \n",
      " 7   country                174 non-null    object \n",
      " 8   language               175 non-null    object \n",
      " 9   director               175 non-null    object \n",
      " 10  writer                 175 non-null    object \n",
      " 11  production_company     175 non-null    object \n",
      " 12  actors                 175 non-null    object \n",
      " 13  description            175 non-null    object \n",
      " 14  avg_vote               175 non-null    float64\n",
      " 15  votes                  175 non-null    int64  \n",
      " 16  budget                 175 non-null    object \n",
      " 17  usa_gross_income       175 non-null    object \n",
      " 18  worlwide_gross_income  175 non-null    object \n",
      " 19  metascore              164 non-null    float64\n",
      " 20  reviews_from_users     175 non-null    float64\n",
      " 21  reviews_from_critics   174 non-null    float64\n",
      " 22  revenue                175 non-null    object \n",
      "dtypes: float64(4), int64(3), object(16)\n",
      "memory usage: 32.8+ KB\n"
     ]
    }
   ],
   "source": [
    "df_1.info()"
   ]
  },
  {
   "cell_type": "code",
   "execution_count": 54,
   "metadata": {},
   "outputs": [
    {
     "data": {
      "text/plain": [
       "0              Conspiracy Reels\n",
       "1                 DeadAir Films\n",
       "2         Dead Leaf Productions\n",
       "3                 Coverage, Ink\n",
       "4                Make The Movie\n",
       "                 ...           \n",
       "417    Chris Morgan Productions\n",
       "418                     Syncopy\n",
       "419        Walt Disney Pictures\n",
       "420        Walt Disney Pictures\n",
       "421              Marvel Studios\n",
       "Name: production_company, Length: 403, dtype: object"
      ]
     },
     "execution_count": 54,
     "metadata": {},
     "output_type": "execute_result"
    }
   ],
   "source": [
    "df_raw[df_raw['production_company'].notnull()][\"production_company\"]"
   ]
  },
  {
   "cell_type": "code",
   "execution_count": null,
   "metadata": {},
   "outputs": [],
   "source": []
  }
 ],
 "metadata": {
  "kernelspec": {
   "display_name": "Python 3",
   "language": "python",
   "name": "python3"
  },
  "language_info": {
   "codemirror_mode": {
    "name": "ipython",
    "version": 3
   },
   "file_extension": ".py",
   "mimetype": "text/x-python",
   "name": "python",
   "nbconvert_exporter": "python",
   "pygments_lexer": "ipython3",
   "version": "3.8.5"
  }
 },
 "nbformat": 4,
 "nbformat_minor": 4
}
